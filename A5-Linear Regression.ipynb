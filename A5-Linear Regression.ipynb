{
 "cells": [
  {
   "cell_type": "code",
   "execution_count": 2,
   "metadata": {},
   "outputs": [
    {
     "data": {
      "image/png": "[encoded data removed]",
      "text/plain": [
       "<Figure size 432x288 with 1 Axes>"
      ]
     },
     "metadata": {
      "needs_background": "light"
     },
     "output_type": "display_data"
    },
    {
     "name": "stdout",
     "output_type": "stream",
     "text": [
      "4.533333333333333 5.159999999999999\n",
      "0.7199999999999971 92.79333333333332 62.256000000000014\n",
      "2.4872117365078155 2.0372530525194947\n"
     ]
    },
    {
     "data": {
      "image/png": "[encoded data removed]",
      "text/plain": [
       "<Figure size 432x288 with 1 Axes>"
      ]
     },
     "metadata": {
      "needs_background": "light"
     },
     "output_type": "display_data"
    }
   ],
   "source": [
    "import pandas as pd\n",
    "import matplotlib.pyplot as plt\n",
    "\n",
    "df=pd.read_csv(\"/home/ignis/Desktop/1NT19IS107/linear_regression.csv\")\n",
    "df\n",
    "df.plot(x=\"Hours\",y=\"Scores\",style=\"o\")\n",
    "plt.show()\n",
    "\n",
    "x_mean=df[\"Hours\"].mean()\n",
    "y_mean=df[\"Scores\"].mean()\n",
    "print(x_mean,y_mean)\n",
    "\n",
    "df[\"x\"]=df[\"Hours\"]-x_mean\n",
    "df[\"y\"]=df[\"Scores\"]-y_mean\n",
    "df[\"x*y\"]=df[\"x\"]*df[\"y\"]\n",
    "df[\"x^2\"]=df[\"x\"]**2\n",
    "df[\"y^2\"]=df[\"y\"]**2\n",
    "df\n",
    "\n",
    "\n",
    "summation_x_y=df[\"x*y\"].sum()\n",
    "summation_x_squared=df[\"x^2\"].sum()\n",
    "summation_y_squared=df[\"y^2\"].sum()\n",
    "print(summation_x_y,summation_x_squared,summation_y_squared)\n",
    "\n",
    "correlation=summation_x_y/(summation_x_squared * summation_y_squared) ** 0.5\n",
    "\n",
    "correlation\n",
    "\n",
    "def getMean(numbers):\n",
    "    if len(numbers) == 0:\n",
    "        return None\n",
    "    else:\n",
    "        current_sum=0\n",
    "        for i in numbers:\n",
    "            current_sum +=i\n",
    "            current_avg = current_sum/len(numbers)\n",
    "        return current_avg\n",
    "    \n",
    "def getStandardDeviation(numbers):\n",
    "    if len(numbers) == 0:\n",
    "        return 0\n",
    "    else:\n",
    "        mean=getMean(numbers)\n",
    "        std_deviation=0\n",
    "        for i in numbers:\n",
    "            std_deviation +=(i-mean)**2\n",
    "        return (std_deviation/len(numbers)) **0.5\n",
    "    \n",
    "    \n",
    "std_deviation_x=getStandardDeviation(df[\"x\"].tolist())\n",
    "std_deviation_y=getStandardDeviation(df[\"y\"].tolist())\n",
    "print(std_deviation_x,std_deviation_y)\n",
    "\n",
    "m=correlation *(std_deviation_y/std_deviation_x)\n",
    "m\n",
    "\n",
    "c=df[\"Scores\"].mean()-m*df[\"Hours\"].mean()\n",
    "c\n",
    "\n",
    "df[\"y_prediction\"]=m*df[\"Hours\"]+c\n",
    "df\n",
    "\n",
    "plot1=plt.scatter(df[\"Hours\"],df[\"Scores\"])\n",
    "plot2=plt.scatter(df[\"Hours\"],df[\"y_prediction\"])\n",
    "plt.show()\n",
    "    \n",
    "    \n",
    "    \n",
    "    \n",
    "    \n",
    "    \n",
    "    \n",
    "    \n",
    "    \n",
    "    \n",
    "    "
   ]
  },
  {
   "cell_type": "code",
   "execution_count": null,
   "metadata": {},
   "outputs": [],
   "source": []
  }
 ],
 "metadata": {
  "kernelspec": {
   "display_name": "Python 3",
   "language": "python",
   "name": "python3"
  },
  "language_info": {
   "codemirror_mode": {
    "name": "ipython",
    "version": 3
   },
   "file_extension": ".py",
   "mimetype": "text/x-python",
   "name": "python",
   "nbconvert_exporter": "python",
   "pygments_lexer": "ipython3",
   "version": "3.7.6"
  }
 },
 "nbformat": 4,
 "nbformat_minor": 4
}
