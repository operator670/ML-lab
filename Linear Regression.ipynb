{
 "cells": [
  {
   "cell_type": "code",
   "execution_count": 1,
   "id": "fe62331e",
   "metadata": {},
   "outputs": [],
   "source": [
    "import pandas as pd\n",
    "import numpy as np\n",
    "import matplotlib.pyplot as plt"
   ]
  },
  {
   "cell_type": "code",
   "execution_count": 2,
   "id": "80e5bad7",
   "metadata": {},
   "outputs": [
    {
     "data": {
      "text/html": [
       "<div>\n",
       "<style scoped>\n",
       "    .dataframe tbody tr th:only-of-type {\n",
       "        vertical-align: middle;\n",
       "    }\n",
       "\n",
       "    .dataframe tbody tr th {\n",
       "        vertical-align: top;\n",
       "    }\n",
       "\n",
       "    .dataframe thead th {\n",
       "        text-align: right;\n",
       "    }\n",
       "</style>\n",
       "<table border=\"1\" class=\"dataframe\">\n",
       "  <thead>\n",
       "    <tr style=\"text-align: right;\">\n",
       "      <th></th>\n",
       "      <th>Hours</th>\n",
       "      <th>Scores</th>\n",
       "    </tr>\n",
       "  </thead>\n",
       "  <tbody>\n",
       "    <tr>\n",
       "      <th>0</th>\n",
       "      <td>1.0</td>\n",
       "      <td>45</td>\n",
       "    </tr>\n",
       "    <tr>\n",
       "      <th>1</th>\n",
       "      <td>2.0</td>\n",
       "      <td>68</td>\n",
       "    </tr>\n",
       "    <tr>\n",
       "      <th>2</th>\n",
       "      <td>3.0</td>\n",
       "      <td>23</td>\n",
       "    </tr>\n",
       "    <tr>\n",
       "      <th>3</th>\n",
       "      <td>4.5</td>\n",
       "      <td>88</td>\n",
       "    </tr>\n",
       "    <tr>\n",
       "      <th>4</th>\n",
       "      <td>3.9</td>\n",
       "      <td>90</td>\n",
       "    </tr>\n",
       "    <tr>\n",
       "      <th>5</th>\n",
       "      <td>2.5</td>\n",
       "      <td>12</td>\n",
       "    </tr>\n",
       "    <tr>\n",
       "      <th>6</th>\n",
       "      <td>8.0</td>\n",
       "      <td>34</td>\n",
       "    </tr>\n",
       "    <tr>\n",
       "      <th>7</th>\n",
       "      <td>12.0</td>\n",
       "      <td>74</td>\n",
       "    </tr>\n",
       "    <tr>\n",
       "      <th>8</th>\n",
       "      <td>6.4</td>\n",
       "      <td>56</td>\n",
       "    </tr>\n",
       "  </tbody>\n",
       "</table>\n",
       "</div>"
      ],
      "text/plain": [
       "   Hours  Scores\n",
       "0    1.0      45\n",
       "1    2.0      68\n",
       "2    3.0      23\n",
       "3    4.5      88\n",
       "4    3.9      90\n",
       "5    2.5      12\n",
       "6    8.0      34\n",
       "7   12.0      74\n",
       "8    6.4      56"
      ]
     },
     "execution_count": 2,
     "metadata": {},
     "output_type": "execute_result"
    }
   ],
   "source": [
    "df = pd.read_csv(\"/home/admin1/Documents/score.csv\")\n",
    "df"
   ]
  },
  {
   "cell_type": "code",
   "execution_count": 3,
   "id": "24a1395c",
   "metadata": {},
   "outputs": [
    {
     "data": {
      "image/png": "[encoded data removed]",
      "text/plain": [
       "<Figure size 432x288 with 1 Axes>"
      ]
     },
     "metadata": {
      "needs_background": "light"
     },
     "output_type": "display_data"
    }
   ],
   "source": [
    "df.plot(x=\"Hours\",y=\"Scores\",style=\"o\")\n",
    "plt.show()"
   ]
  },
  {
   "cell_type": "code",
   "execution_count": 4,
   "id": "cb9d60b0",
   "metadata": {},
   "outputs": [
    {
     "name": "stdout",
     "output_type": "stream",
     "text": [
      "4.811111111111111 54.44444444444444\n"
     ]
    }
   ],
   "source": [
    "x_mean = df[\"Hours\"].mean()\n",
    "y_mean = df[\"Scores\"].mean()\n",
    "print(x_mean, y_mean)"
   ]
  },
  {
   "cell_type": "code",
   "execution_count": 5,
   "id": "5e635bb0",
   "metadata": {},
   "outputs": [
    {
     "data": {
      "text/html": [
       "<div>\n",
       "<style scoped>\n",
       "    .dataframe tbody tr th:only-of-type {\n",
       "        vertical-align: middle;\n",
       "    }\n",
       "\n",
       "    .dataframe tbody tr th {\n",
       "        vertical-align: top;\n",
       "    }\n",
       "\n",
       "    .dataframe thead th {\n",
       "        text-align: right;\n",
       "    }\n",
       "</style>\n",
       "<table border=\"1\" class=\"dataframe\">\n",
       "  <thead>\n",
       "    <tr style=\"text-align: right;\">\n",
       "      <th></th>\n",
       "      <th>Hours</th>\n",
       "      <th>Scores</th>\n",
       "      <th>x</th>\n",
       "      <th>y</th>\n",
       "      <th>x*y</th>\n",
       "      <th>x^2</th>\n",
       "      <th>y^2</th>\n",
       "    </tr>\n",
       "  </thead>\n",
       "  <tbody>\n",
       "    <tr>\n",
       "      <th>0</th>\n",
       "      <td>1.0</td>\n",
       "      <td>45</td>\n",
       "      <td>-3.811111</td>\n",
       "      <td>-9.444444</td>\n",
       "      <td>35.993827</td>\n",
       "      <td>14.524568</td>\n",
       "      <td>89.197531</td>\n",
       "    </tr>\n",
       "    <tr>\n",
       "      <th>1</th>\n",
       "      <td>2.0</td>\n",
       "      <td>68</td>\n",
       "      <td>-2.811111</td>\n",
       "      <td>13.555556</td>\n",
       "      <td>-38.106173</td>\n",
       "      <td>7.902346</td>\n",
       "      <td>183.753086</td>\n",
       "    </tr>\n",
       "    <tr>\n",
       "      <th>2</th>\n",
       "      <td>3.0</td>\n",
       "      <td>23</td>\n",
       "      <td>-1.811111</td>\n",
       "      <td>-31.444444</td>\n",
       "      <td>56.949383</td>\n",
       "      <td>3.280123</td>\n",
       "      <td>988.753086</td>\n",
       "    </tr>\n",
       "    <tr>\n",
       "      <th>3</th>\n",
       "      <td>4.5</td>\n",
       "      <td>88</td>\n",
       "      <td>-0.311111</td>\n",
       "      <td>33.555556</td>\n",
       "      <td>-10.439506</td>\n",
       "      <td>0.096790</td>\n",
       "      <td>1125.975309</td>\n",
       "    </tr>\n",
       "    <tr>\n",
       "      <th>4</th>\n",
       "      <td>3.9</td>\n",
       "      <td>90</td>\n",
       "      <td>-0.911111</td>\n",
       "      <td>35.555556</td>\n",
       "      <td>-32.395062</td>\n",
       "      <td>0.830123</td>\n",
       "      <td>1264.197531</td>\n",
       "    </tr>\n",
       "    <tr>\n",
       "      <th>5</th>\n",
       "      <td>2.5</td>\n",
       "      <td>12</td>\n",
       "      <td>-2.311111</td>\n",
       "      <td>-42.444444</td>\n",
       "      <td>98.093827</td>\n",
       "      <td>5.341235</td>\n",
       "      <td>1801.530864</td>\n",
       "    </tr>\n",
       "    <tr>\n",
       "      <th>6</th>\n",
       "      <td>8.0</td>\n",
       "      <td>34</td>\n",
       "      <td>3.188889</td>\n",
       "      <td>-20.444444</td>\n",
       "      <td>-65.195062</td>\n",
       "      <td>10.169012</td>\n",
       "      <td>417.975309</td>\n",
       "    </tr>\n",
       "    <tr>\n",
       "      <th>7</th>\n",
       "      <td>12.0</td>\n",
       "      <td>74</td>\n",
       "      <td>7.188889</td>\n",
       "      <td>19.555556</td>\n",
       "      <td>140.582716</td>\n",
       "      <td>51.680123</td>\n",
       "      <td>382.419753</td>\n",
       "    </tr>\n",
       "    <tr>\n",
       "      <th>8</th>\n",
       "      <td>6.4</td>\n",
       "      <td>56</td>\n",
       "      <td>1.588889</td>\n",
       "      <td>1.555556</td>\n",
       "      <td>2.471605</td>\n",
       "      <td>2.524568</td>\n",
       "      <td>2.419753</td>\n",
       "    </tr>\n",
       "  </tbody>\n",
       "</table>\n",
       "</div>"
      ],
      "text/plain": [
       "   Hours  Scores         x          y         x*y        x^2          y^2\n",
       "0    1.0      45 -3.811111  -9.444444   35.993827  14.524568    89.197531\n",
       "1    2.0      68 -2.811111  13.555556  -38.106173   7.902346   183.753086\n",
       "2    3.0      23 -1.811111 -31.444444   56.949383   3.280123   988.753086\n",
       "3    4.5      88 -0.311111  33.555556  -10.439506   0.096790  1125.975309\n",
       "4    3.9      90 -0.911111  35.555556  -32.395062   0.830123  1264.197531\n",
       "5    2.5      12 -2.311111 -42.444444   98.093827   5.341235  1801.530864\n",
       "6    8.0      34  3.188889 -20.444444  -65.195062  10.169012   417.975309\n",
       "7   12.0      74  7.188889  19.555556  140.582716  51.680123   382.419753\n",
       "8    6.4      56  1.588889   1.555556    2.471605   2.524568     2.419753"
      ]
     },
     "execution_count": 5,
     "metadata": {},
     "output_type": "execute_result"
    }
   ],
   "source": [
    "df[\"x\"] = df[\"Hours\"] - x_mean\n",
    "df[\"y\"] = df[\"Scores\"] - y_mean\n",
    "df[\"x*y\"] = df[\"x\"] * df[\"y\"]\n",
    "df[\"x^2\"] = df[\"x\"]**2\n",
    "df[\"y^2\"] = df[\"y\"]**2\n",
    "df"
   ]
  },
  {
   "cell_type": "code",
   "execution_count": 6,
   "id": "902629a2",
   "metadata": {},
   "outputs": [
    {
     "name": "stdout",
     "output_type": "stream",
     "text": [
      "187.95555555555555 96.3488888888889 6256.222222222222\n"
     ]
    }
   ],
   "source": [
    "summation_x_y = df[\"x*y\"].sum()\n",
    "summation_x_squared = df[\"x^2\"].sum()\n",
    "summation_y_squared = df[\"y^2\"].sum()\n",
    "print(summation_x_y, summation_x_squared, summation_y_squared)"
   ]
  },
  {
   "cell_type": "code",
   "execution_count": 7,
   "id": "ac0f4976",
   "metadata": {},
   "outputs": [
    {
     "data": {
      "text/plain": [
       "0.24208937455951093"
      ]
     },
     "execution_count": 7,
     "metadata": {},
     "output_type": "execute_result"
    }
   ],
   "source": [
    "correlation = summation_x_y / (summation_x_squared * summation_y_squared) ** 0.5\n",
    "correlation"
   ]
  },
  {
   "cell_type": "code",
   "execution_count": 8,
   "id": "0bc838fb",
   "metadata": {},
   "outputs": [
    {
     "name": "stdout",
     "output_type": "stream",
     "text": [
      "3.2719156619273413 26.36542816775665\n"
     ]
    }
   ],
   "source": [
    "def getMean(numbers):\n",
    "    if len(numbers) == 0:\n",
    "        return None\n",
    "    else:\n",
    "        current_sum = 0\n",
    "        for i in numbers:\n",
    "            current_sum += i\n",
    "            current_avg = current_sum/len(numbers)\n",
    "        return current_avg\n",
    "\n",
    "\n",
    "def getStandardDeviation(numbers):\n",
    "    if len(numbers) == 0:\n",
    "        return 0\n",
    "    else:\n",
    "        mean = getMean(numbers)\n",
    "        std_deviation = 0\n",
    "        for i in numbers:\n",
    "            std_deviation += (i-mean)**2\n",
    "        return (std_deviation/len(numbers))**0.5\n",
    "    \n",
    "std_deviation_x = getStandardDeviation(df[\"x\"].tolist())\n",
    "std_deviation_y = getStandardDeviation(df[\"y\"].tolist())\n",
    "print(std_deviation_x, std_deviation_y)"
   ]
  },
  {
   "cell_type": "code",
   "execution_count": 9,
   "id": "b3c425fc",
   "metadata": {},
   "outputs": [
    {
     "data": {
      "text/plain": [
       "1.950780727448855"
      ]
     },
     "execution_count": 9,
     "metadata": {},
     "output_type": "execute_result"
    }
   ],
   "source": [
    "m = correlation * (std_deviation_y / std_deviation_x)\n",
    "m"
   ]
  },
  {
   "cell_type": "code",
   "execution_count": 10,
   "id": "03843138",
   "metadata": {},
   "outputs": [
    {
     "data": {
      "text/plain": [
       "45.05902161127384"
      ]
     },
     "execution_count": 10,
     "metadata": {},
     "output_type": "execute_result"
    }
   ],
   "source": [
    "c = df[\"Scores\"].mean() - m * df[\"Hours\"].mean()\n",
    "c"
   ]
  },
  {
   "cell_type": "code",
   "execution_count": 11,
   "id": "3b3078de",
   "metadata": {},
   "outputs": [
    {
     "data": {
      "text/html": [
       "<div>\n",
       "<style scoped>\n",
       "    .dataframe tbody tr th:only-of-type {\n",
       "        vertical-align: middle;\n",
       "    }\n",
       "\n",
       "    .dataframe tbody tr th {\n",
       "        vertical-align: top;\n",
       "    }\n",
       "\n",
       "    .dataframe thead th {\n",
       "        text-align: right;\n",
       "    }\n",
       "</style>\n",
       "<table border=\"1\" class=\"dataframe\">\n",
       "  <thead>\n",
       "    <tr style=\"text-align: right;\">\n",
       "      <th></th>\n",
       "      <th>Hours</th>\n",
       "      <th>Scores</th>\n",
       "      <th>x</th>\n",
       "      <th>y</th>\n",
       "      <th>x*y</th>\n",
       "      <th>x^2</th>\n",
       "      <th>y^2</th>\n",
       "      <th>y_pred</th>\n",
       "    </tr>\n",
       "  </thead>\n",
       "  <tbody>\n",
       "    <tr>\n",
       "      <th>0</th>\n",
       "      <td>1.0</td>\n",
       "      <td>45</td>\n",
       "      <td>-3.811111</td>\n",
       "      <td>-9.444444</td>\n",
       "      <td>35.993827</td>\n",
       "      <td>14.524568</td>\n",
       "      <td>89.197531</td>\n",
       "      <td>47.009802</td>\n",
       "    </tr>\n",
       "    <tr>\n",
       "      <th>1</th>\n",
       "      <td>2.0</td>\n",
       "      <td>68</td>\n",
       "      <td>-2.811111</td>\n",
       "      <td>13.555556</td>\n",
       "      <td>-38.106173</td>\n",
       "      <td>7.902346</td>\n",
       "      <td>183.753086</td>\n",
       "      <td>48.960583</td>\n",
       "    </tr>\n",
       "    <tr>\n",
       "      <th>2</th>\n",
       "      <td>3.0</td>\n",
       "      <td>23</td>\n",
       "      <td>-1.811111</td>\n",
       "      <td>-31.444444</td>\n",
       "      <td>56.949383</td>\n",
       "      <td>3.280123</td>\n",
       "      <td>988.753086</td>\n",
       "      <td>50.911364</td>\n",
       "    </tr>\n",
       "    <tr>\n",
       "      <th>3</th>\n",
       "      <td>4.5</td>\n",
       "      <td>88</td>\n",
       "      <td>-0.311111</td>\n",
       "      <td>33.555556</td>\n",
       "      <td>-10.439506</td>\n",
       "      <td>0.096790</td>\n",
       "      <td>1125.975309</td>\n",
       "      <td>53.837535</td>\n",
       "    </tr>\n",
       "    <tr>\n",
       "      <th>4</th>\n",
       "      <td>3.9</td>\n",
       "      <td>90</td>\n",
       "      <td>-0.911111</td>\n",
       "      <td>35.555556</td>\n",
       "      <td>-32.395062</td>\n",
       "      <td>0.830123</td>\n",
       "      <td>1264.197531</td>\n",
       "      <td>52.667066</td>\n",
       "    </tr>\n",
       "    <tr>\n",
       "      <th>5</th>\n",
       "      <td>2.5</td>\n",
       "      <td>12</td>\n",
       "      <td>-2.311111</td>\n",
       "      <td>-42.444444</td>\n",
       "      <td>98.093827</td>\n",
       "      <td>5.341235</td>\n",
       "      <td>1801.530864</td>\n",
       "      <td>49.935973</td>\n",
       "    </tr>\n",
       "    <tr>\n",
       "      <th>6</th>\n",
       "      <td>8.0</td>\n",
       "      <td>34</td>\n",
       "      <td>3.188889</td>\n",
       "      <td>-20.444444</td>\n",
       "      <td>-65.195062</td>\n",
       "      <td>10.169012</td>\n",
       "      <td>417.975309</td>\n",
       "      <td>60.665267</td>\n",
       "    </tr>\n",
       "    <tr>\n",
       "      <th>7</th>\n",
       "      <td>12.0</td>\n",
       "      <td>74</td>\n",
       "      <td>7.188889</td>\n",
       "      <td>19.555556</td>\n",
       "      <td>140.582716</td>\n",
       "      <td>51.680123</td>\n",
       "      <td>382.419753</td>\n",
       "      <td>68.468390</td>\n",
       "    </tr>\n",
       "    <tr>\n",
       "      <th>8</th>\n",
       "      <td>6.4</td>\n",
       "      <td>56</td>\n",
       "      <td>1.588889</td>\n",
       "      <td>1.555556</td>\n",
       "      <td>2.471605</td>\n",
       "      <td>2.524568</td>\n",
       "      <td>2.419753</td>\n",
       "      <td>57.544018</td>\n",
       "    </tr>\n",
       "  </tbody>\n",
       "</table>\n",
       "</div>"
      ],
      "text/plain": [
       "   Hours  Scores         x          y         x*y        x^2          y^2  \\\n",
       "0    1.0      45 -3.811111  -9.444444   35.993827  14.524568    89.197531   \n",
       "1    2.0      68 -2.811111  13.555556  -38.106173   7.902346   183.753086   \n",
       "2    3.0      23 -1.811111 -31.444444   56.949383   3.280123   988.753086   \n",
       "3    4.5      88 -0.311111  33.555556  -10.439506   0.096790  1125.975309   \n",
       "4    3.9      90 -0.911111  35.555556  -32.395062   0.830123  1264.197531   \n",
       "5    2.5      12 -2.311111 -42.444444   98.093827   5.341235  1801.530864   \n",
       "6    8.0      34  3.188889 -20.444444  -65.195062  10.169012   417.975309   \n",
       "7   12.0      74  7.188889  19.555556  140.582716  51.680123   382.419753   \n",
       "8    6.4      56  1.588889   1.555556    2.471605   2.524568     2.419753   \n",
       "\n",
       "      y_pred  \n",
       "0  47.009802  \n",
       "1  48.960583  \n",
       "2  50.911364  \n",
       "3  53.837535  \n",
       "4  52.667066  \n",
       "5  49.935973  \n",
       "6  60.665267  \n",
       "7  68.468390  \n",
       "8  57.544018  "
      ]
     },
     "execution_count": 11,
     "metadata": {},
     "output_type": "execute_result"
    }
   ],
   "source": [
    "df[\"y_pred\"] = m * df[\"Hours\"]+c\n",
    "df"
   ]
  },
  {
   "cell_type": "code",
   "execution_count": 12,
   "id": "ba4dc69e",
   "metadata": {},
   "outputs": [
    {
     "data": {
      "image/png": "[encoded data removed]",
      "text/plain": [
       "<Figure size 432x288 with 1 Axes>"
      ]
     },
     "metadata": {
      "needs_background": "light"
     },
     "output_type": "display_data"
    }
   ],
   "source": [
    "plot1 = plt.scatter(df[\"Hours\"],df[\"Scores\"])\n",
    "plot2 = plt.scatter(df[\"Hours\"],df[\"y_pred\"])\n",
    "plt.show()"
   ]
  },
  {
   "cell_type": "code",
   "execution_count": null,
   "id": "927e9a4a",
   "metadata": {},
   "outputs": [],
   "source": []
  }
 ],
 "metadata": {
  "kernelspec": {
   "display_name": "Python 3 (ipykernel)",
   "language": "python",
   "name": "python3"
  },
  "language_info": {
   "codemirror_mode": {
    "name": "ipython",
    "version": 3
   },
   "file_extension": ".py",
   "mimetype": "text/x-python",
   "name": "python",
   "nbconvert_exporter": "python",
   "pygments_lexer": "ipython3",
   "version": "3.10.6"
  }
 },
 "nbformat": 4,
 "nbformat_minor": 5
}
